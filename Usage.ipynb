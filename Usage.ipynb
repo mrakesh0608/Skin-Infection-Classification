{
 "cells": [
  {
   "cell_type": "code",
   "execution_count": null,
   "id": "eba7cc01",
   "metadata": {},
   "outputs": [],
   "source": [
    "from keras.models import load_model\n",
    "from skimage import io\n",
    "import cv2"
   ]
  },
  {
   "cell_type": "code",
   "execution_count": null,
   "id": "ef56e78b",
   "metadata": {
    "scrolled": true
   },
   "outputs": [],
   "source": [
    "img_size = 200\n",
    "classes = {0: 'Acne/Rosacea',\n",
    "           1: 'Actinic Keratosis/Basal Cell Carcinoma/Malignant Lesions',\n",
    "           2: 'Eczema',\n",
    "           3: 'Melanoma Skin Cancer/Nevi/Moles',\n",
    "           4: 'Psoriasis/Lichen Planus and related diseases',\n",
    "           5: 'Tinea Ringworm/Candidiasis/Fungal Infections',\n",
    "           6: 'Urticaria/Hives',\n",
    "           7: 'Nail Fungus/Nail Disease'}\n",
    "\n",
    "model = load_model('models/Skin_Infection_classification.h5')"
   ]
  },
  {
   "cell_type": "code",
   "execution_count": null,
   "id": "673f70fc",
   "metadata": {},
   "outputs": [],
   "source": [
    "def predict_class(image):\n",
    "    img = io.imread(image)\n",
    "    img = cv2.resize(img, (img_size,img_size)) / 255.0\n",
    "\n",
    "    predictions = (model.predict(\n",
    "        img.reshape(1, img_size, img_size, 3)) * 100.0).round(2)\n",
    "    \n",
    "    pred_dict = {}\n",
    "    \n",
    "    for index in classes:\n",
    "        pred_dict[classes[index]] = predictions[0][index]\n",
    "    return pred_dict"
   ]
  },
  {
   "cell_type": "code",
   "execution_count": null,
   "id": "48defcc6",
   "metadata": {},
   "outputs": [],
   "source": [
    "result = predict_class('path')\n",
    "result"
   ]
  },
  {
   "cell_type": "code",
   "execution_count": null,
   "id": "a4c41cd0",
   "metadata": {},
   "outputs": [],
   "source": [
    "dict_dis = sorted(result.items(), key=lambda x: x[1], reverse=True)\n",
    "dict_dis = dict(sorted(result.items(), key=lambda x: x[1], reverse=True)[:2]) #top 2\n",
    "dict_dis"
   ]
  },
  {
   "cell_type": "code",
   "execution_count": null,
   "id": "1fa676d4",
   "metadata": {},
   "outputs": [],
   "source": [
    "max_val = max(dict_dis, key=dict_dis.get)\n",
    "max_val"
   ]
  },
  {
   "cell_type": "code",
   "execution_count": null,
   "id": "d1b935cb",
   "metadata": {},
   "outputs": [],
   "source": []
  }
 ],
 "metadata": {
  "kernelspec": {
   "display_name": "Python 3 (ipykernel)",
   "language": "python",
   "name": "python3"
  },
  "language_info": {
   "codemirror_mode": {
    "name": "ipython",
    "version": 3
   },
   "file_extension": ".py",
   "mimetype": "text/x-python",
   "name": "python",
   "nbconvert_exporter": "python",
   "pygments_lexer": "ipython3",
   "version": "3.11.2"
  }
 },
 "nbformat": 4,
 "nbformat_minor": 5
}
